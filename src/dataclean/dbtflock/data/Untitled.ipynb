{
 "cells": [
  {
   "cell_type": "code",
   "execution_count": 1,
   "id": "0e8e262e",
   "metadata": {},
   "outputs": [
    {
     "name": "stdout",
     "output_type": "stream",
     "text": [
      "0.7.1\n"
     ]
    }
   ],
   "source": [
    "import numpy as np\n",
    "import json\n",
    "\n",
    "import duckdb # conda install -c conda-forge python-duckdb\n",
    "print(duckdb.__version__)\n",
    "#import yaml # conda install -c conda-forge pyyaml\n",
    "#import dbt # conda install -c conda-forge dbt\n",
    "#import jinja2 # conda install -c anaconda jinja2\n",
    "\n",
    "#import sqlite3\n",
    "import os\n",
    "import pandas as pd\n",
    "\n",
    "path_folder = os.getcwd()"
   ]
  },
  {
   "cell_type": "code",
   "execution_count": 2,
   "id": "0fa7ba58",
   "metadata": {},
   "outputs": [],
   "source": [
    "#path_file_database = os.path.join(path_folder_data, file_name_database)\n",
    "path_file_database = \"flockdata.db\"\n",
    "#db_conn = sqlite3.connect(path_file_sql_generated_database)\n",
    "db_conn = duckdb.connect(path_file_database)\n",
    "\n",
    "cursor = db_conn.cursor()"
   ]
  },
  {
   "cell_type": "code",
   "execution_count": 3,
   "id": "436591ce",
   "metadata": {},
   "outputs": [
    {
     "data": {
      "text/plain": [
       "┌──────────────────────────┐\n",
       "│        table_name        │\n",
       "│         varchar          │\n",
       "├──────────────────────────┤\n",
       "│ offer_acceptance_orders  │\n",
       "│ offer_acceptance_offers  │\n",
       "│ zipcode_coordinates      │\n",
       "│ oa_offers_temp           │\n",
       "│ oa_orders_temp           │\n",
       "│ temp_oa_joined_cleaned   │\n",
       "│ offers_aggregated        │\n",
       "│ orders_lead_time_cleaned │\n",
       "│ oa                       │\n",
       "│ zipcode_groupby          │\n",
       "├──────────────────────────┤\n",
       "│         10 rows          │\n",
       "└──────────────────────────┘"
      ]
     },
     "execution_count": 3,
     "metadata": {},
     "output_type": "execute_result"
    }
   ],
   "source": [
    "sql = \"\"\"\n",
    "SELECT DISTINCT Table_name FROM Information_schema.columns;\n",
    "\"\"\"\n",
    "cursor.sql(sql)"
   ]
  },
  {
   "cell_type": "code",
   "execution_count": 4,
   "id": "5b407520",
   "metadata": {},
   "outputs": [
    {
     "data": {
      "text/plain": [
       "┌──────────────┐\n",
       "│ count_star() │\n",
       "│    int64     │\n",
       "├──────────────┤\n",
       "│       280208 │\n",
       "└──────────────┘"
      ]
     },
     "execution_count": 4,
     "metadata": {},
     "output_type": "execute_result"
    }
   ],
   "source": [
    "sql = \"\"\"\n",
    "SELECT COUNT(*) FROM oa;\n",
    "\"\"\"\n",
    "cursor.sql(sql)"
   ]
  },
  {
   "cell_type": "code",
   "execution_count": 5,
   "id": "78687b0c",
   "metadata": {},
   "outputs": [
    {
     "data": {
      "text/plain": [
       "┌────────────────────────┐\n",
       "│     TRANSPORT_MODE     │\n",
       "│        varchar         │\n",
       "├────────────────────────┤\n",
       "│ PTL                    │\n",
       "│ LTL                    │\n",
       "│ PTL                    │\n",
       "│ FTL                    │\n",
       "│ PTL                    │\n",
       "│ PTL                    │\n",
       "│ PTL                    │\n",
       "│ PTL                    │\n",
       "│ VLTL                   │\n",
       "│ PTL                    │\n",
       "│  ·                     │\n",
       "│  ·                     │\n",
       "│  ·                     │\n",
       "│ PTL                    │\n",
       "│ FTL                    │\n",
       "│ PTL                    │\n",
       "│ PTL                    │\n",
       "│ FTL                    │\n",
       "│ FTL                    │\n",
       "│ FTL                    │\n",
       "│ PTL                    │\n",
       "│ PTL                    │\n",
       "│ PTL                    │\n",
       "├────────────────────────┤\n",
       "│         ? rows         │\n",
       "│ (>9999 rows, 20 shown) │\n",
       "└────────────────────────┘"
      ]
     },
     "execution_count": 5,
     "metadata": {},
     "output_type": "execute_result"
    }
   ],
   "source": [
    "sql = \"\"\"\n",
    "SELECT TRANSPORT_MODE FROM oa_orders_temp;\n",
    "\"\"\"\n",
    "cursor.sql(sql)"
   ]
  },
  {
   "cell_type": "code",
   "execution_count": 6,
   "id": "8631593d",
   "metadata": {},
   "outputs": [
    {
     "data": {
      "text/plain": [
       "┌────────────────────────────────────────────────────────────────────┐\n",
       "│                         REFERENCE_NUMBERS                          │\n",
       "│                             varchar[]                              │\n",
       "├────────────────────────────────────────────────────────────────────┤\n",
       "│ [7c38b9639cfe470cd081d816fcf600cdf533acc6f8054620e0236ffc2727828f] │\n",
       "│ [8fe81622792c29c1afe6e532de98c8300a85a2268b54765d181e45063c941614] │\n",
       "│ [6e6ebca05f379f76d3c33225cfaf711974453c1c00c75452e22582209e9c1dc5] │\n",
       "└────────────────────────────────────────────────────────────────────┘"
      ]
     },
     "execution_count": 6,
     "metadata": {},
     "output_type": "execute_result"
    }
   ],
   "source": [
    "sql = \"\"\"\n",
    "SELECT REFERENCE_NUMBERS FROM oa_orders_temp LIMIT 3;\n",
    "\"\"\"\n",
    "cursor.sql(sql)"
   ]
  },
  {
   "cell_type": "code",
   "execution_count": 7,
   "id": "b6df2d82",
   "metadata": {},
   "outputs": [
    {
     "data": {
      "text/plain": [
       "┌──────────────────────────────────────────────────────────────────┐\n",
       "│                        REFERENCE_NUMBERS1                        │\n",
       "│                             varchar                              │\n",
       "├──────────────────────────────────────────────────────────────────┤\n",
       "│ 7c38b9639cfe470cd081d816fcf600cdf533acc6f8054620e0236ffc2727828f │\n",
       "│ 8fe81622792c29c1afe6e532de98c8300a85a2268b54765d181e45063c941614 │\n",
       "│ 6e6ebca05f379f76d3c33225cfaf711974453c1c00c75452e22582209e9c1dc5 │\n",
       "└──────────────────────────────────────────────────────────────────┘"
      ]
     },
     "execution_count": 7,
     "metadata": {},
     "output_type": "execute_result"
    }
   ],
   "source": [
    "sql = \"\"\"\n",
    "SELECT REFERENCE_NUMBERS1 FROM oa_orders_temp LIMIT 3;\n",
    "\"\"\"\n",
    "cursor.sql(sql)"
   ]
  },
  {
   "cell_type": "code",
   "execution_count": 8,
   "id": "07ae90de",
   "metadata": {},
   "outputs": [
    {
     "data": {
      "text/plain": [
       "┌──────────────────────────────────────────────────────────────────────────────────────────────────────────────────────┐\n",
       "│                                                  REFERENCE_NUMBERS                                                   │\n",
       "│                                                      varchar[]                                                       │\n",
       "├──────────────────────────────────────────────────────────────────────────────────────────────────────────────────────┤\n",
       "│ [ce3548db155049cc1ccce2da041cec607942e4f779fc2dee81d5756a93508e49, 0034d727920c7ec0d25c4e40248ddc4d487c239b647da07…  │\n",
       "│ [ce3548db155049cc1ccce2da041cec607942e4f779fc2dee81d5756a93508e49, 0034d727920c7ec0d25c4e40248ddc4d487c239b647da07…  │\n",
       "│ [ce3548db155049cc1ccce2da041cec607942e4f779fc2dee81d5756a93508e49, 0034d727920c7ec0d25c4e40248ddc4d487c239b647da07…  │\n",
       "└──────────────────────────────────────────────────────────────────────────────────────────────────────────────────────┘"
      ]
     },
     "execution_count": 8,
     "metadata": {},
     "output_type": "execute_result"
    }
   ],
   "source": [
    "sql = \"\"\"\n",
    "SELECT REFERENCE_NUMBERS FROM oa_offers_temp LIMIT 3;\n",
    "\"\"\"\n",
    "cursor.sql(sql)"
   ]
  },
  {
   "cell_type": "code",
   "execution_count": 9,
   "id": "4b52d90d",
   "metadata": {},
   "outputs": [
    {
     "data": {
      "text/plain": [
       "┌──────────────────────────────────────────────────────────────────┐\n",
       "│                        REFERENCE_NUMBERS1                        │\n",
       "│                             varchar                              │\n",
       "├──────────────────────────────────────────────────────────────────┤\n",
       "│ ce3548db155049cc1ccce2da041cec607942e4f779fc2dee81d5756a93508e49 │\n",
       "│ 0034d727920c7ec0d25c4e40248ddc4d487c239b647da070e706ce6b01f2385b │\n",
       "│ ce3548db155049cc1ccce2da041cec607942e4f779fc2dee81d5756a93508e49 │\n",
       "└──────────────────────────────────────────────────────────────────┘"
      ]
     },
     "execution_count": 9,
     "metadata": {},
     "output_type": "execute_result"
    }
   ],
   "source": [
    "sql = \"\"\"\n",
    "SELECT REFERENCE_NUMBERS1 FROM oa_offers_temp LIMIT 3;\n",
    "\"\"\"\n",
    "cursor.sql(sql)"
   ]
  },
  {
   "cell_type": "code",
   "execution_count": 24,
   "id": "30727863",
   "metadata": {},
   "outputs": [
    {
     "data": {
      "text/plain": [
       "[(41332,)]"
      ]
     },
     "execution_count": 24,
     "metadata": {},
     "output_type": "execute_result"
    }
   ],
   "source": [
    "sql = \"\"\"\n",
    "SELECT \n",
    "\n",
    "SUM(CASE WHEN LOAD_DELIVERED_FROM_OFFER = 'true' THEN 1 ELSE 0 END)\n",
    "\n",
    "FROM temp_oa_joined_cleaned\n",
    ";\n",
    "\"\"\"\n",
    "(cursor.sql(sql).fetchall())"
   ]
  },
  {
   "cell_type": "code",
   "execution_count": 27,
   "id": "dbb2bf99",
   "metadata": {},
   "outputs": [
    {
     "data": {
      "text/plain": [
       "[(838072, 168430)]"
      ]
     },
     "execution_count": 27,
     "metadata": {},
     "output_type": "execute_result"
    }
   ],
   "source": [
    "sql = \"\"\"\n",
    "SELECT \n",
    "\n",
    "COUNT(*),\n",
    "SUM(CASE WHEN LOAD_DELIVERED_FROM_OFFER = 'true' THEN 1 ELSE 0 END)\n",
    "FROM oa_offers_temp\n",
    "GROUP BY \n",
    ";\n",
    "\"\"\"\n",
    "(cursor.sql(sql).fetchall())"
   ]
  },
  {
   "cell_type": "code",
   "execution_count": 25,
   "id": "be58cdc1",
   "metadata": {},
   "outputs": [
    {
     "data": {
      "text/plain": [
       "[(False,), (True,)]"
      ]
     },
     "execution_count": 25,
     "metadata": {},
     "output_type": "execute_result"
    }
   ],
   "source": [
    "sql = \"\"\"\n",
    "SELECT \n",
    "\n",
    "DISTINCT LOAD_DELIVERED_FROM_OFFER\n",
    "\n",
    "FROM temp_oa_joined_cleaned\n",
    ";\n",
    "\"\"\"\n",
    "(cursor.sql(sql).fetchall())"
   ]
  },
  {
   "cell_type": "code",
   "execution_count": 18,
   "id": "1aa240f0",
   "metadata": {},
   "outputs": [
    {
     "ename": "BinderException",
     "evalue": "Binder Error: Referenced table \"OA0\" not found!\nCandidate tables: \"oa\"",
     "output_type": "error",
     "traceback": [
      "\u001b[1;31m---------------------------------------------------------------------------\u001b[0m",
      "\u001b[1;31mBinderException\u001b[0m                           Traceback (most recent call last)",
      "\u001b[1;32m<ipython-input-18-c3b24ee2b0f9>\u001b[0m in \u001b[0;36m<module>\u001b[1;34m\u001b[0m\n\u001b[0;32m      9\u001b[0m \u001b[1;33m;\u001b[0m\u001b[1;33m\u001b[0m\u001b[1;33m\u001b[0m\u001b[0m\n\u001b[0;32m     10\u001b[0m \"\"\"\n\u001b[1;32m---> 11\u001b[1;33m \u001b[1;33m(\u001b[0m\u001b[0mcursor\u001b[0m\u001b[1;33m.\u001b[0m\u001b[0msql\u001b[0m\u001b[1;33m(\u001b[0m\u001b[0msql\u001b[0m\u001b[1;33m)\u001b[0m\u001b[1;33m.\u001b[0m\u001b[0mfetchall\u001b[0m\u001b[1;33m(\u001b[0m\u001b[1;33m)\u001b[0m\u001b[1;33m)\u001b[0m\u001b[1;33m\u001b[0m\u001b[1;33m\u001b[0m\u001b[0m\n\u001b[0m",
      "\u001b[1;31mBinderException\u001b[0m: Binder Error: Referenced table \"OA0\" not found!\nCandidate tables: \"oa\""
     ]
    }
   ],
   "source": [
    "sql = \"\"\"\n",
    "SELECT \n",
    "COUNT(*),\n",
    "AVG(CASE WHEN LOG_RATE_USD IS NULL THEN 0 ELSE 1 END),\n",
    "AVG(CASE WHEN SD_LOG_RATE_USD IS NULL THEN 0 ELSE 1 END),\n",
    "AVG(CASE WHEN LEAD_TIME IS NULL THEN 0 ELSE 1 END)\n",
    "FROM oa\n",
    ";\n",
    "\"\"\"\n",
    "(cursor.sql(sql).fetchall())"
   ]
  },
  {
   "cell_type": "code",
   "execution_count": 20,
   "id": "4da6a8d5",
   "metadata": {},
   "outputs": [
    {
     "data": {
      "text/plain": [
       "[(280208,)]"
      ]
     },
     "execution_count": 20,
     "metadata": {},
     "output_type": "execute_result"
    }
   ],
   "source": [
    "sql = \"\"\"\n",
    "SELECT \n",
    "COUNT(*)\n",
    "FROM oa_orders_temp\n",
    ";\n",
    "\"\"\"\n",
    "(cursor.sql(sql).fetchall())"
   ]
  },
  {
   "cell_type": "code",
   "execution_count": null,
   "id": "bf8d0353",
   "metadata": {},
   "outputs": [],
   "source": [
    "sql = \"\"\"\n",
    "SELECT \n",
    "COUNT(*)\n",
    "FROM oa_orders_temp\n",
    ";\n",
    "\"\"\"\n",
    "(cursor.sql(sql).fetchall())"
   ]
  },
  {
   "cell_type": "code",
   "execution_count": 17,
   "id": "a4f86c37",
   "metadata": {},
   "outputs": [
    {
     "data": {
      "text/plain": [
       "[(41332, 0.9998548340269041)]"
      ]
     },
     "execution_count": 17,
     "metadata": {},
     "output_type": "execute_result"
    }
   ],
   "source": [
    "sql = \"\"\"\n",
    "SELECT \n",
    "COUNT(*),\n",
    "AVG(CASE WHEN LEAD_TIME IS NULL THEN 0 ELSE 1 END)\n",
    "FROM orders_lead_time_cleaned\n",
    "\n",
    ";\n",
    "\"\"\"\n",
    "(cursor.sql(sql).fetchall())"
   ]
  },
  {
   "cell_type": "code",
   "execution_count": null,
   "id": "ba8c7505",
   "metadata": {},
   "outputs": [],
   "source": [
    "sql = \"\"\"\n",
    "SELECT \n",
    "AVG(CASE WHEN LEAD_TIME IS NULL THEN 0 ELSE 1 END)\n",
    "FROM orders_lead_time_cleaned\n",
    ";\n",
    "\"\"\"\n",
    "(cursor.sql(sql).fetchall())"
   ]
  },
  {
   "cell_type": "code",
   "execution_count": 28,
   "id": "1f48e2dd",
   "metadata": {},
   "outputs": [],
   "source": [
    "cursor.close()\n",
    "db_conn.close()"
   ]
  },
  {
   "cell_type": "code",
   "execution_count": 10,
   "id": "71ce701d",
   "metadata": {},
   "outputs": [
    {
     "data": {
      "text/plain": [
       "┌────────────────────────────────────────────────────────────────────────┐\n",
       "│                           REFERENCE_NUMBERS                            │\n",
       "│                               varchar[]                                │\n",
       "├────────────────────────────────────────────────────────────────────────┤\n",
       "│ [\\n7c38b9639cfe470cd081d816fcf600cdf533acc6f8054620e0236ffc2727828f\\n] │\n",
       "│ [\\n8fe81622792c29c1afe6e532de98c8300a85a2268b54765d181e45063c941614\\n] │\n",
       "│ [\\n6e6ebca05f379f76d3c33225cfaf711974453c1c00c75452e22582209e9c1dc5\\n] │\n",
       "│ [\\nbf92c2cf6cc18fc192145414f65a0df9658b9d05e4e8d406db37e242948cb9f0\\n] │\n",
       "│ [\\ndf99f3313ca0e92477fc77349b28546a7e152e47ac8becf29da44eb923665166\\n] │\n",
       "│ [\\n964722e980adb67e8985bd09f294d0f5e7584a9d1bca826418e9a45c0af04037\\n] │\n",
       "│ [\\n7c7cad8a108722c260bbaa3000e40a8fa1123dccf6f9ddaee42616e2d8e9bfda\\n] │\n",
       "│ [\\n1d773d9e71b14ff9df3bf373bca218f91ddaaffb6bf18c741d2bedb9fb52a880\\n] │\n",
       "│ [\\n591c96e8e389c70e9866311a45443b6d25d637e6f942e067b6f717bb64706f6f\\n] │\n",
       "│ [\\n0499570f6181660388b2e4369e0550994e6753a9e0bf23b8819c83c39c00cac2\\n] │\n",
       "│                                   ·                                    │\n",
       "│                                   ·                                    │\n",
       "│                                   ·                                    │\n",
       "│ [\\n6309d5812e28a4459c54f47a4d0a26fcf0672015ee3ff9fa4032ba5bb2094847\\n] │\n",
       "│ [\\n488aae3119e354069f02ddc6477d2893ec3ead2949f299e47e2fb25311bae3d1\\n] │\n",
       "│ [\\nd9c17bfe3abb6d3eb15aba3eb19c74cd2b34a5325ec9d7a835f91e4c93305d31\\n] │\n",
       "│ [\\n62ba85e2748703cfbc3dfebba4626d211d0ed368bb2f822b9bbe2948567d1d2d\\n] │\n",
       "│ [\\nfe3814eecd25f39beb7a48599a46dd8efdc08b0e58cbf5593c4fe5a29ee19163\\n] │\n",
       "│ [\\ncda27bbb1d2d14fa2c455625f966b5d2e3e8ed26e71cfbc323353cbf89dbaa16\\n] │\n",
       "│ [\\n1915c8d3eab562675f44f6da4a575061cff50f6c85e53f201003d03e43efd600\\n] │\n",
       "│ [\\n3417d3dde27fde0dec7acfbe9b4413826474da28c9ff0d751d03b531ff3c5a8e\\n] │\n",
       "│ [\\nedba6bebba9d9e50bd66145487d627df4da10b59195f68c1b521752c905a6d52\\n] │\n",
       "│ [\\n3d4ca01c6b6de4579beda33a1f905c17549f3e9a1367e29b3aa8cc60512a71c8\\n] │\n",
       "├────────────────────────────────────────────────────────────────────────┤\n",
       "│                     ? rows (>9999 rows, 20 shown)                      │\n",
       "└────────────────────────────────────────────────────────────────────────┘"
      ]
     },
     "execution_count": 10,
     "metadata": {},
     "output_type": "execute_result"
    }
   ],
   "source": [
    "sql = \"\"\"\n",
    "SELECT REFERENCE_NUMBERS FROM oa_orders_temp;\n",
    "\"\"\"\n",
    "cursor.sql(sql)"
   ]
  },
  {
   "cell_type": "code",
   "execution_count": 11,
   "id": "aa27c848",
   "metadata": {},
   "outputs": [
    {
     "data": {
      "text/plain": [
       "┌──────────────────────────────────────────────────────────────────────────────────────────────────────────────────────┐\n",
       "│                                                  REFERENCE_NUMBERS                                                   │\n",
       "│                                                      varchar[]                                                       │\n",
       "├──────────────────────────────────────────────────────────────────────────────────────────────────────────────────────┤\n",
       "│ [\\nce3548db155049cc1ccce2da041cec607942e4f779fc2dee81d5756a93508e49, \\n0034d727920c7ec0d25c4e40248ddc4d487c239b647…  │\n",
       "│ [\\nce3548db155049cc1ccce2da041cec607942e4f779fc2dee81d5756a93508e49, \\n0034d727920c7ec0d25c4e40248ddc4d487c239b647…  │\n",
       "│ [\\nce3548db155049cc1ccce2da041cec607942e4f779fc2dee81d5756a93508e49, \\n0034d727920c7ec0d25c4e40248ddc4d487c239b647…  │\n",
       "│ [\\nce3548db155049cc1ccce2da041cec607942e4f779fc2dee81d5756a93508e49, \\n0034d727920c7ec0d25c4e40248ddc4d487c239b647…  │\n",
       "│ [\\nce3548db155049cc1ccce2da041cec607942e4f779fc2dee81d5756a93508e49, \\n0034d727920c7ec0d25c4e40248ddc4d487c239b647…  │\n",
       "│ [\\nce3548db155049cc1ccce2da041cec607942e4f779fc2dee81d5756a93508e49, \\n0034d727920c7ec0d25c4e40248ddc4d487c239b647…  │\n",
       "│ [\\nce3548db155049cc1ccce2da041cec607942e4f779fc2dee81d5756a93508e49, \\n0034d727920c7ec0d25c4e40248ddc4d487c239b647…  │\n",
       "│ [\\nce3548db155049cc1ccce2da041cec607942e4f779fc2dee81d5756a93508e49, \\n0034d727920c7ec0d25c4e40248ddc4d487c239b647…  │\n",
       "│ [\\nce3548db155049cc1ccce2da041cec607942e4f779fc2dee81d5756a93508e49, \\n0034d727920c7ec0d25c4e40248ddc4d487c239b647…  │\n",
       "│ [\\nce3548db155049cc1ccce2da041cec607942e4f779fc2dee81d5756a93508e49, \\n0034d727920c7ec0d25c4e40248ddc4d487c239b647…  │\n",
       "│                                                          ·                                                           │\n",
       "│                                                          ·                                                           │\n",
       "│                                                          ·                                                           │\n",
       "│ [\\n5c2745ca012e14445fec58a8ec3c6fc7275e1e3bad03b06711d07389faedf718, \\n32fb54b64c0aa103167c24bc7389f8c962b0f6bcb75…  │\n",
       "│ [\\n5c2745ca012e14445fec58a8ec3c6fc7275e1e3bad03b06711d07389faedf718, \\n32fb54b64c0aa103167c24bc7389f8c962b0f6bcb75…  │\n",
       "│ [\\n5c2745ca012e14445fec58a8ec3c6fc7275e1e3bad03b06711d07389faedf718, \\n32fb54b64c0aa103167c24bc7389f8c962b0f6bcb75…  │\n",
       "│ [\\n5c2745ca012e14445fec58a8ec3c6fc7275e1e3bad03b06711d07389faedf718, \\n32fb54b64c0aa103167c24bc7389f8c962b0f6bcb75…  │\n",
       "│ [\\n5c2745ca012e14445fec58a8ec3c6fc7275e1e3bad03b06711d07389faedf718, \\n32fb54b64c0aa103167c24bc7389f8c962b0f6bcb75…  │\n",
       "│ [\\nc4df70156326a7c950794a863db5c2bf0db2ba175686256b21f02d80dfddc09d, \\n46eb73f3fca91625ce3880107ed5272ea834b03127b…  │\n",
       "│ [\\nc4df70156326a7c950794a863db5c2bf0db2ba175686256b21f02d80dfddc09d, \\n46eb73f3fca91625ce3880107ed5272ea834b03127b…  │\n",
       "│ [\\n61d7a808bc593ed6a792de8d516236904ac8d736b9473e3c991578779fa6b481, \\n40aaa590310b7cd5ac8a99ec5dc48b26096123830c7…  │\n",
       "│ [\\n61d7a808bc593ed6a792de8d516236904ac8d736b9473e3c991578779fa6b481, \\n40aaa590310b7cd5ac8a99ec5dc48b26096123830c7…  │\n",
       "│ [\\n61d7a808bc593ed6a792de8d516236904ac8d736b9473e3c991578779fa6b481, \\n40aaa590310b7cd5ac8a99ec5dc48b26096123830c7…  │\n",
       "├──────────────────────────────────────────────────────────────────────────────────────────────────────────────────────┤\n",
       "│                                            ? rows (>9999 rows, 20 shown)                                             │\n",
       "└──────────────────────────────────────────────────────────────────────────────────────────────────────────────────────┘"
      ]
     },
     "execution_count": 11,
     "metadata": {},
     "output_type": "execute_result"
    }
   ],
   "source": [
    "sql = \"\"\"\n",
    "SELECT REFERENCE_NUMBERS FROM oa_offers_temp;\n",
    "\"\"\"\n",
    "cursor.sql(sql)"
   ]
  },
  {
   "cell_type": "code",
   "execution_count": 12,
   "id": "afee780e",
   "metadata": {},
   "outputs": [
    {
     "data": {
      "text/plain": [
       "┌──────────────────────────────────────────────────────────────────────┐\n",
       "│                          REFERENCE_NUMBERS1                          │\n",
       "│                               varchar                                │\n",
       "├──────────────────────────────────────────────────────────────────────┤\n",
       "│ \\n24eec0dd0170246ee13b82374992e173fa5997cd1f51b91e7fde404357f37ecc\\n │\n",
       "│ \\n59b6d4fd5a4187e7fb0853106bd0f4d22a0005c1c88aed1e4b51a1b8b65685da\\n │\n",
       "│ \\n01a55b02958cf98e90efb785e66d4c98bba67e533fcd838b3bff26071947f64c\\n │\n",
       "│ \\n0b50c47cb72d32fd027e8c43dbec76f9d3c2dc85ac4930d6be269c104a5081d0\\n │\n",
       "│ \\n1ca0868c6bd368531a4e7020f048b8c97e65576f3de21f572446786b08adb592\\n │\n",
       "│ \\neaacc62e4bd53e967c459885c0d0344016dd0c962ababee8de950e42e1158389\\n │\n",
       "│ \\na56d03576c0e9e8adb6e53c4ddb35d95690c0a057e4c28f5fe646f6ce00020aa\\n │\n",
       "│ \\ndc117010f01ee45840abc390a8ea569ae3f4c775497b3f9fbe06926d488c0b0f\\n │\n",
       "│ \\neb8edd35b697051f18ad553bf1109d94a67d8e05fbaff4dba5f1d36c5f3f2735\\n │\n",
       "│ \\n54e3c2f889230a6f812bdfb8361799d7469587853797f264196dec3c4fb1221a\\n │\n",
       "│                                  ·                                   │\n",
       "│                                  ·                                   │\n",
       "│                                  ·                                   │\n",
       "│ \\n8a00199b9181d390788d2dc89a4bd9acc20f15b11303d3a00d3b5c9c8c7f172c\\n │\n",
       "│ \\na21141736a5892e3c6e0c0014dbd7d29f523fc43a1748965f30841800ad6632b\\n │\n",
       "│ \\n4a202b30bb5b1cb7ffba91b859082bc32d107bcba63779861a8a574617bb8fda\\n │\n",
       "│ \\n0e2dacccb33aa25c4314dfe9f2f72ed579dd49735be81e9600ea455b602436af\\n │\n",
       "│ \\n4ef0f99593e782117cef2771633a96d18f01534fdd859ccc877237a5a804720d\\n │\n",
       "│ \\n63c07c3c3c327bec39a70225fadd10b16bf3aab3a0ca9cf99d851a639e784f3f\\n │\n",
       "│ \\ne173f89f3c9af1793ee56667282a5838bba5f6c23c09e6efecb17aafec3dd087\\n │\n",
       "│ \\n1221d1753cc68eee9f9459f9075ced8f2ce7cb21b79636688ca7950eefc25f79\\n │\n",
       "│ \\n81e5d808982c3d9f27b57cd3f961cde20a7d91b3ea88006d95ce151c2b9749aa\\n │\n",
       "│ \\nb223b9297b5995fe658ddd54e1c6646526b38d24529aa7ddc136539def6fea3e\\n │\n",
       "├──────────────────────────────────────────────────────────────────────┤\n",
       "│                    ? rows (>9999 rows, 20 shown)                     │\n",
       "└──────────────────────────────────────────────────────────────────────┘"
      ]
     },
     "execution_count": 12,
     "metadata": {},
     "output_type": "execute_result"
    }
   ],
   "source": [
    "sql = \"\"\"\n",
    "SELECT REFERENCE_NUMBERS1 FROM temp_oa_joined_cleaned;\n",
    "\"\"\"\n",
    "cursor.sql(sql)"
   ]
  },
  {
   "cell_type": "code",
   "execution_count": 13,
   "id": "2fefc5c4",
   "metadata": {},
   "outputs": [
    {
     "data": {
      "text/plain": [
       "┌───────────────────────────────────────────────────────┬────────────────────┬────────────────────┬────────────────────┐\n",
       "│                  REFERENCE_NUMBERS1                   │  SD_LOG_RATE_USD   │    LOG_RATE_USD    │ ORDER_OFFER_AMOUNT │\n",
       "│                        varchar                        │       double       │       double       │       int64        │\n",
       "├───────────────────────────────────────────────────────┼────────────────────┼────────────────────┼────────────────────┤\n",
       "│ \\n753920a3a7f38a34a319d16a6d0723d7ca59f2f920138055e…  │ 228.43574345729894 │  7.973035018942992 │                  9 │\n",
       "│ \\nf825f46677b498f995e88c10ca17fa31d36a8d8a5f4cd9bea…  │ 449.44771664788766 │   9.43223768048014 │                  6 │\n",
       "│ \\ncd07fb5343479cf3835bece874b7ed894defb420c3ac32aee…  │  70.28724546459335 │  8.122786311170033 │                  4 │\n",
       "│ \\n0c1bce8b06ff86c675757bf60869765d7c5b4bfeb94664dff…  │   265.069802127666 │  7.867396845592098 │                  3 │\n",
       "│ \\n0137d758cab621a47f77533d91182e1707bb1e626e08faf1b…  │  572.3581927660742 │   9.22315523560356 │                 11 │\n",
       "│ \\n1c9c253cc41a0354a68ef5970bde96ef14e4da33faf850749…  │             2838.0 │  8.164178774444185 │                  2 │\n",
       "│ \\n5f586f20f91ae094fd8006804d3cf08c207ce4d7b9f190dbf…  │                0.0 │  7.632885505395133 │                  1 │\n",
       "│ \\n7545ed1bc52c31d5e0cfa1299e2033293d824f3c34af2cea7…  │  6808.672894772535 │  9.494067730870011 │                 14 │\n",
       "│ \\nf50104a77ff6bb5d6e438b3cbb4d1253dcdfad6373f7d0894…  │ 280.17106939332615 │  8.066349939820427 │                  6 │\n",
       "│ \\n8fe5a9cce5da63f90df00e7626ade18b2fb3f118f3062ae81…  │                0.0 │  7.000790144949327 │                  1 │\n",
       "│                           ·                           │                 ·  │          ·         │                  · │\n",
       "│                           ·                           │                 ·  │          ·         │                  · │\n",
       "│                           ·                           │                 ·  │          ·         │                  · │\n",
       "│ \\ne91e3b6ab4f824cbcb9c1178ade06735d69fdb42b4d9213b3…  │                0.0 │  9.108418382250798 │                  1 │\n",
       "│ \\n98481ce15e3147083c6744ec67e64b7d39493bbf5aba8f01e…  │ 40.010801041718715 │  6.853347622913915 │                  6 │\n",
       "│ \\ne61a668bf9ae3d54b1b9a6a0d2a7825a993db942cc41af846…  │              387.0 │  7.615008592041627 │                  2 │\n",
       "│ \\nc7359dfe996da84e214ecbe7c232936a107fd232cbd0a5eee…  │              193.5 │   8.20860224427502 │                  2 │\n",
       "│ \\nc64b8e143da775c5eceeee2555a948715f68c028ce179e76b…  │ 121.62236636408618 │  7.935017144011589 │                  3 │\n",
       "│ \\n8da5f4645b14492ce22aab5dafc8baf80917438379ce1707d…  │                0.0 │  7.995643604287271 │                  1 │\n",
       "│ \\n107e3cfcf760ce626b9610f61805f0b9104afcbbfe548ac3b…  │ 370.29966243570897 │  9.210803519728598 │                  5 │\n",
       "│ \\n4df89d70ce94eb5cdc4da1b18ca7cb1fca80727938af1596f…  │                0.0 │  9.647368744540465 │                  1 │\n",
       "│ \\ne5df8a42c770faa3de496d76dff9addca71b38f8c1c52e193…  │ 182.43354954612926 │  8.522926202718269 │                  3 │\n",
       "│ \\n78d7bbc5b97d260767e74e83b3573c7794b31d8817712a6eb…  │  574.7322799356236 │ 7.5922195037675335 │                  5 │\n",
       "├───────────────────────────────────────────────────────┴────────────────────┴────────────────────┴────────────────────┤\n",
       "│ ? rows (>9999 rows, 20 shown)                                                                              4 columns │\n",
       "└──────────────────────────────────────────────────────────────────────────────────────────────────────────────────────┘"
      ]
     },
     "execution_count": 13,
     "metadata": {},
     "output_type": "execute_result"
    }
   ],
   "source": [
    "sql = \"\"\"\n",
    "SELECT * FROM offers_aggregated;\n",
    "\"\"\"\n",
    "cursor.sql(sql)"
   ]
  },
  {
   "cell_type": "code",
   "execution_count": 14,
   "id": "c1a12ce4",
   "metadata": {},
   "outputs": [
    {
     "data": {
      "text/plain": [
       "┌──────────────────────────────────────────────────────────────────────┬───────────────────────┐\n",
       "│                          REFERENCE_NUMBERS1                          │       LEAD_TIME       │\n",
       "│                               varchar                                │        double         │\n",
       "├──────────────────────────────────────────────────────────────────────┼───────────────────────┤\n",
       "│ \\n0b50c47cb72d32fd027e8c43dbec76f9d3c2dc85ac4930d6be269c104a5081d0\\n │   0.29989848828929017 │\n",
       "│ \\neaacc62e4bd53e967c459885c0d0344016dd0c962ababee8de950e42e1158389\\n │  0.012406399369634807 │\n",
       "│ \\na56d03576c0e9e8adb6e53c4ddb35d95690c0a057e4c28f5fe646f6ce00020aa\\n │  0.008696363238952183 │\n",
       "│ \\neb8edd35b697051f18ad553bf1109d94a67d8e05fbaff4dba5f1d36c5f3f2735\\n │   0.14328318422336206 │\n",
       "│ \\n54e3c2f889230a6f812bdfb8361799d7469587853797f264196dec3c4fb1221a\\n │    0.7520389077630114 │\n",
       "│ \\n13c7814f7ac9d5e8ae39a678e351cf75e3cee40c83d083806b6a6273116d3f24\\n │    0.4685288659236215 │\n",
       "│ \\nf37567e211a80637548a4909d6e11a0b16433da907d2f729d9ae91a51065a6d1\\n │   0.27475027032267896 │\n",
       "│ \\n1a44b9fad9a6fca721a4c9ad89d5a9920817bea80c9aeccc81fe175d9709da67\\n │    0.1065732585632414 │\n",
       "│ \\n59558e0b1fd35355b76799d0f79d2c756e1c7d67c98636ba2f59f6e6bf6ea8cf\\n │  0.024170074622063168 │\n",
       "│ \\ndbf909f1a3863cad67c344b91792f270c5195153d19058e3e5cfb8dd0e850939\\n │   0.26464538613325767 │\n",
       "│                                  ·                                   │            ·          │\n",
       "│                                  ·                                   │            ·          │\n",
       "│                                  ·                                   │            ·          │\n",
       "│ \\ne0ceb4874dd1d469da5e88ca3e7854ad2b7446188b8fa3c482334cd01818080e\\n │   0.38519397387272014 │\n",
       "│ \\nebfd29d2bbe8a858a775c51a9855a29fa1ba0eabf18920a42bca761dbc414b48\\n │    0.6817304470808069 │\n",
       "│ \\nea568e162bdb28ff8ce2d34aff34bf31e147d0e915ffe5d48c968e2ade384945\\n │   0.28812403095011274 │\n",
       "│ \\n3c08c197bb96469d1d0a9c7f99f030ec829976aae0dcb7e19ed4eb208665bcde\\n │    0.7673904917915189 │\n",
       "│ \\n0b56f3da4144476ab5479b9e414ca21d9b92627664a3ade6150643b19df2fde7\\n │    0.6802795106944695 │\n",
       "│ \\n27fefd368ae9a29b5d8de070417ee23727e0ebdd588ec8a983fa073cb1e9b733\\n │ 0.0018345207140108048 │\n",
       "│ \\n92e583cf2d7a45e1d6136a0bc0411e7d825925f64c00153acf3898c002ce47e0\\n │    0.0632345309364172 │\n",
       "│ \\n1ed65c4c848d621f3431555e3748ccaa11587872475165788565264f0e9aed85\\n │    0.3234197897172804 │\n",
       "│ \\ned93a27bd2b741cd52e0b618b18f21590c95fc7100a09ce8ef31524965e447ea\\n │   0.25911999387790974 │\n",
       "│ \\n3d9eba453717a98c44cf27dc945fec79db778a70a2bbbf8c1034ecbd14ae0349\\n │   0.30183110230792937 │\n",
       "├──────────────────────────────────────────────────────────────────────┴───────────────────────┤\n",
       "│ ? rows (>9999 rows, 20 shown)                                                      2 columns │\n",
       "└──────────────────────────────────────────────────────────────────────────────────────────────┘"
      ]
     },
     "execution_count": 14,
     "metadata": {},
     "output_type": "execute_result"
    }
   ],
   "source": [
    "sql = \"\"\"\n",
    "SELECT * FROM orders_lead_time_cleaned;\n",
    "\"\"\"\n",
    "cursor.sql(sql)"
   ]
  },
  {
   "cell_type": "code",
   "execution_count": 15,
   "id": "748f2eed",
   "metadata": {},
   "outputs": [
    {
     "data": {
      "text/plain": [
       "┌──────────────────────────────────────────────────────────────────────┐\n",
       "│                          REFERENCE_NUMBERS1                          │\n",
       "│                               varchar                                │\n",
       "├──────────────────────────────────────────────────────────────────────┤\n",
       "│ \\nce3548db155049cc1ccce2da041cec607942e4f779fc2dee81d5756a93508e49   │\n",
       "│ \\n0034d727920c7ec0d25c4e40248ddc4d487c239b647da070e706ce6b01f2385b\\n │\n",
       "│ \\nce3548db155049cc1ccce2da041cec607942e4f779fc2dee81d5756a93508e49   │\n",
       "│ \\n0034d727920c7ec0d25c4e40248ddc4d487c239b647da070e706ce6b01f2385b\\n │\n",
       "│ \\nce3548db155049cc1ccce2da041cec607942e4f779fc2dee81d5756a93508e49   │\n",
       "│ \\n0034d727920c7ec0d25c4e40248ddc4d487c239b647da070e706ce6b01f2385b\\n │\n",
       "│ \\nce3548db155049cc1ccce2da041cec607942e4f779fc2dee81d5756a93508e49   │\n",
       "│ \\n0034d727920c7ec0d25c4e40248ddc4d487c239b647da070e706ce6b01f2385b\\n │\n",
       "│ \\nce3548db155049cc1ccce2da041cec607942e4f779fc2dee81d5756a93508e49   │\n",
       "│ \\n0034d727920c7ec0d25c4e40248ddc4d487c239b647da070e706ce6b01f2385b\\n │\n",
       "│                                  ·                                   │\n",
       "│                                  ·                                   │\n",
       "│                                  ·                                   │\n",
       "│ \\n32fb54b64c0aa103167c24bc7389f8c962b0f6bcb750827716310acc5bc5d31e\\n │\n",
       "│ \\n5c2745ca012e14445fec58a8ec3c6fc7275e1e3bad03b06711d07389faedf718   │\n",
       "│ \\n32fb54b64c0aa103167c24bc7389f8c962b0f6bcb750827716310acc5bc5d31e\\n │\n",
       "│ \\n5c2745ca012e14445fec58a8ec3c6fc7275e1e3bad03b06711d07389faedf718   │\n",
       "│ \\n32fb54b64c0aa103167c24bc7389f8c962b0f6bcb750827716310acc5bc5d31e\\n │\n",
       "│ \\nc4df70156326a7c950794a863db5c2bf0db2ba175686256b21f02d80dfddc09d   │\n",
       "│ \\n46eb73f3fca91625ce3880107ed5272ea834b03127bb717d84c0e7c04b58f889\\n │\n",
       "│ \\n61d7a808bc593ed6a792de8d516236904ac8d736b9473e3c991578779fa6b481   │\n",
       "│ \\n40aaa590310b7cd5ac8a99ec5dc48b26096123830c76a2a13473abc47bb1f598\\n │\n",
       "│ \\n61d7a808bc593ed6a792de8d516236904ac8d736b9473e3c991578779fa6b481   │\n",
       "├──────────────────────────────────────────────────────────────────────┤\n",
       "│                    ? rows (>9999 rows, 20 shown)                     │\n",
       "└──────────────────────────────────────────────────────────────────────┘"
      ]
     },
     "execution_count": 15,
     "metadata": {},
     "output_type": "execute_result"
    }
   ],
   "source": [
    "sql = \"\"\"\n",
    "SELECT REFERENCE_NUMBERS1 FROM oa_offers_temp;\n",
    "\"\"\"\n",
    "cursor.sql(sql)"
   ]
  },
  {
   "cell_type": "code",
   "execution_count": 16,
   "id": "3532efdb",
   "metadata": {},
   "outputs": [
    {
     "data": {
      "text/plain": [
       "┌──────────────────────────────────────────────────────────────────────┐\n",
       "│                          REFERENCE_NUMBERS1                          │\n",
       "│                               varchar                                │\n",
       "├──────────────────────────────────────────────────────────────────────┤\n",
       "│ \\n7c38b9639cfe470cd081d816fcf600cdf533acc6f8054620e0236ffc2727828f\\n │\n",
       "│ \\n8fe81622792c29c1afe6e532de98c8300a85a2268b54765d181e45063c941614\\n │\n",
       "│ \\n6e6ebca05f379f76d3c33225cfaf711974453c1c00c75452e22582209e9c1dc5\\n │\n",
       "│ \\nbf92c2cf6cc18fc192145414f65a0df9658b9d05e4e8d406db37e242948cb9f0\\n │\n",
       "│ \\ndf99f3313ca0e92477fc77349b28546a7e152e47ac8becf29da44eb923665166\\n │\n",
       "│ \\n964722e980adb67e8985bd09f294d0f5e7584a9d1bca826418e9a45c0af04037\\n │\n",
       "│ \\n7c7cad8a108722c260bbaa3000e40a8fa1123dccf6f9ddaee42616e2d8e9bfda\\n │\n",
       "│ \\n1d773d9e71b14ff9df3bf373bca218f91ddaaffb6bf18c741d2bedb9fb52a880\\n │\n",
       "│ \\n591c96e8e389c70e9866311a45443b6d25d637e6f942e067b6f717bb64706f6f\\n │\n",
       "│ \\n0499570f6181660388b2e4369e0550994e6753a9e0bf23b8819c83c39c00cac2\\n │\n",
       "│                                  ·                                   │\n",
       "│                                  ·                                   │\n",
       "│                                  ·                                   │\n",
       "│ \\n6309d5812e28a4459c54f47a4d0a26fcf0672015ee3ff9fa4032ba5bb2094847\\n │\n",
       "│ \\n488aae3119e354069f02ddc6477d2893ec3ead2949f299e47e2fb25311bae3d1\\n │\n",
       "│ \\nd9c17bfe3abb6d3eb15aba3eb19c74cd2b34a5325ec9d7a835f91e4c93305d31\\n │\n",
       "│ \\n62ba85e2748703cfbc3dfebba4626d211d0ed368bb2f822b9bbe2948567d1d2d\\n │\n",
       "│ \\nfe3814eecd25f39beb7a48599a46dd8efdc08b0e58cbf5593c4fe5a29ee19163\\n │\n",
       "│ \\ncda27bbb1d2d14fa2c455625f966b5d2e3e8ed26e71cfbc323353cbf89dbaa16\\n │\n",
       "│ \\n1915c8d3eab562675f44f6da4a575061cff50f6c85e53f201003d03e43efd600\\n │\n",
       "│ \\n3417d3dde27fde0dec7acfbe9b4413826474da28c9ff0d751d03b531ff3c5a8e\\n │\n",
       "│ \\nedba6bebba9d9e50bd66145487d627df4da10b59195f68c1b521752c905a6d52\\n │\n",
       "│ \\n3d4ca01c6b6de4579beda33a1f905c17549f3e9a1367e29b3aa8cc60512a71c8\\n │\n",
       "├──────────────────────────────────────────────────────────────────────┤\n",
       "│                    ? rows (>9999 rows, 20 shown)                     │\n",
       "└──────────────────────────────────────────────────────────────────────┘"
      ]
     },
     "execution_count": 16,
     "metadata": {},
     "output_type": "execute_result"
    }
   ],
   "source": [
    "sql = \"\"\"\n",
    "SELECT REFERENCE_NUMBERS1 FROM oa_orders_temp;\n",
    "\"\"\"\n",
    "cursor.sql(sql)"
   ]
  },
  {
   "cell_type": "code",
   "execution_count": null,
   "id": "be4cb583",
   "metadata": {},
   "outputs": [],
   "source": []
  },
  {
   "cell_type": "code",
   "execution_count": null,
   "id": "5de95030",
   "metadata": {},
   "outputs": [],
   "source": []
  }
 ],
 "metadata": {
  "kernelspec": {
   "display_name": "Python 3",
   "language": "python",
   "name": "python3"
  },
  "language_info": {
   "codemirror_mode": {
    "name": "ipython",
    "version": 3
   },
   "file_extension": ".py",
   "mimetype": "text/x-python",
   "name": "python",
   "nbconvert_exporter": "python",
   "pygments_lexer": "ipython3",
   "version": "3.7.4"
  }
 },
 "nbformat": 4,
 "nbformat_minor": 5
}

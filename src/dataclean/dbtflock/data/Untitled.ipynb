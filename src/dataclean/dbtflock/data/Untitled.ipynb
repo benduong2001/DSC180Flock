{
 "cells": [
  {
   "cell_type": "code",
   "execution_count": 6,
   "id": "f7ae2f1c",
   "metadata": {},
   "outputs": [],
   "source": [
    "import numpy as np\n",
    "import json\n",
    "\n",
    "import duckdb # conda install -c conda-forge python-duckdb\n",
    "#import yaml # conda install -c conda-forge pyyaml\n",
    "#import dbt # conda install -c conda-forge dbt\n",
    "#import jinja2 # conda install -c anaconda jinja2\n",
    "\n",
    "#import sqlite3\n",
    "import os\n",
    "import pandas as pd\n",
    "\n",
    "path_folder = os.getcwd()"
   ]
  },
  {
   "cell_type": "code",
   "execution_count": 7,
   "id": "25d0e086",
   "metadata": {},
   "outputs": [],
   "source": [
    "#path_file_database = os.path.join(path_folder_data, file_name_database)\n",
    "path_file_database = \"flockdata.db\"\n",
    "#db_conn = sqlite3.connect(path_file_sql_generated_database)\n",
    "db_conn = duckdb.connect(path_file_database)\n",
    "\n",
    "cursor = db_conn.cursor()"
   ]
  },
  {
   "cell_type": "code",
   "execution_count": 9,
   "id": "a654abba",
   "metadata": {},
   "outputs": [
    {
     "data": {
      "text/plain": [
       "┌──────────────┐\n",
       "│ count_star() │\n",
       "│    int64     │\n",
       "├──────────────┤\n",
       "│       280208 │\n",
       "└──────────────┘"
      ]
     },
     "execution_count": 9,
     "metadata": {},
     "output_type": "execute_result"
    },
    {
     "data": {
      "text/plain": [
       "┌──────────────┐\n",
       "│ count_star() │\n",
       "│    int64     │\n",
       "├──────────────┤\n",
       "│       280208 │\n",
       "└──────────────┘"
      ]
     },
     "execution_count": 9,
     "metadata": {},
     "output_type": "execute_result"
    }
   ],
   "source": [
    "sql = \"\"\"\n",
    "SELECT COUNT(*) FROM oa;\n",
    "\"\"\"\n",
    "cursor.sql(sql)"
   ]
  },
  {
   "cell_type": "code",
   "execution_count": 10,
   "id": "9e6ecd2d",
   "metadata": {},
   "outputs": [
    {
     "data": {
      "text/plain": [
       "┌────────────────────────┐\n",
       "│     TRANSPORT_MODE     │\n",
       "│        varchar         │\n",
       "├────────────────────────┤\n",
       "│ PTL                    │\n",
       "│ LTL                    │\n",
       "│ PTL                    │\n",
       "│ FTL                    │\n",
       "│ PTL                    │\n",
       "│ PTL                    │\n",
       "│ PTL                    │\n",
       "│ PTL                    │\n",
       "│ VLTL                   │\n",
       "│ PTL                    │\n",
       "│  ·                     │\n",
       "│  ·                     │\n",
       "│  ·                     │\n",
       "│ PTL                    │\n",
       "│ FTL                    │\n",
       "│ PTL                    │\n",
       "│ PTL                    │\n",
       "│ FTL                    │\n",
       "│ FTL                    │\n",
       "│ FTL                    │\n",
       "│ PTL                    │\n",
       "│ PTL                    │\n",
       "│ PTL                    │\n",
       "├────────────────────────┤\n",
       "│         ? rows         │\n",
       "│ (>9999 rows, 20 shown) │\n",
       "└────────────────────────┘"
      ]
     },
     "execution_count": 10,
     "metadata": {},
     "output_type": "execute_result"
    },
    {
     "data": {
      "text/plain": [
       "┌────────────────────────┐\n",
       "│     TRANSPORT_MODE     │\n",
       "│        varchar         │\n",
       "├────────────────────────┤\n",
       "│ PTL                    │\n",
       "│ LTL                    │\n",
       "│ PTL                    │\n",
       "│ FTL                    │\n",
       "│ PTL                    │\n",
       "│ PTL                    │\n",
       "│ PTL                    │\n",
       "│ PTL                    │\n",
       "│ VLTL                   │\n",
       "│ PTL                    │\n",
       "│  ·                     │\n",
       "│  ·                     │\n",
       "│  ·                     │\n",
       "│ PTL                    │\n",
       "│ FTL                    │\n",
       "│ PTL                    │\n",
       "│ PTL                    │\n",
       "│ FTL                    │\n",
       "│ FTL                    │\n",
       "│ FTL                    │\n",
       "│ PTL                    │\n",
       "│ PTL                    │\n",
       "│ PTL                    │\n",
       "├────────────────────────┤\n",
       "│         ? rows         │\n",
       "│ (>9999 rows, 20 shown) │\n",
       "└────────────────────────┘"
      ]
     },
     "execution_count": 10,
     "metadata": {},
     "output_type": "execute_result"
    }
   ],
   "source": [
    "sql = \"\"\"\n",
    "SELECT TRANSPORT_MODE FROM oa_orders_temp;\n",
    "\"\"\"\n",
    "cursor.sql(sql)"
   ]
  },
  {
   "cell_type": "code",
   "execution_count": 11,
   "id": "cb85fe89",
   "metadata": {},
   "outputs": [
    {
     "data": {
      "text/plain": [
       "┌────────────────────────────────────────────────────────────────────────────┐\n",
       "│                             REFERENCE_NUMBERS1                             │\n",
       "│                                  varchar                                   │\n",
       "├────────────────────────────────────────────────────────────────────────────┤\n",
       "│ [\\n  \"e07d64df5136bbeee8e09861abb49fb418191444e44eb8985ad3ac6d21fe579f\"\\n] │\n",
       "│ [\\n  \"e07d64df5136bbeee8e09861abb49fb418191444e44eb8985ad3ac6d21fe579f\"\\n] │\n",
       "│ [\\n  \"e07d64df5136bbeee8e09861abb49fb418191444e44eb8985ad3ac6d21fe579f\"\\n] │\n",
       "│ [\\n  \"e07d64df5136bbeee8e09861abb49fb418191444e44eb8985ad3ac6d21fe579f\"\\n] │\n",
       "│ [\\n  \"e07d64df5136bbeee8e09861abb49fb418191444e44eb8985ad3ac6d21fe579f\"\\n] │\n",
       "│ [\\n  \"e07d64df5136bbeee8e09861abb49fb418191444e44eb8985ad3ac6d21fe579f\"\\n] │\n",
       "│ [\\n  \"ae7c9e922c6757aa7f182c8bd8b194d2ce0bb9ada0f8727442fdf8eaa59f2985\"\\n] │\n",
       "│ [\\n  \"ae7c9e922c6757aa7f182c8bd8b194d2ce0bb9ada0f8727442fdf8eaa59f2985\"\\n] │\n",
       "└────────────────────────────────────────────────────────────────────────────┘"
      ]
     },
     "execution_count": 11,
     "metadata": {},
     "output_type": "execute_result"
    },
    {
     "data": {
      "text/plain": [
       "┌────────────────────────────────────────────────────────────────────────────┐\n",
       "│                             REFERENCE_NUMBERS1                             │\n",
       "│                                  varchar                                   │\n",
       "├────────────────────────────────────────────────────────────────────────────┤\n",
       "│ [\\n  \"e07d64df5136bbeee8e09861abb49fb418191444e44eb8985ad3ac6d21fe579f\"\\n] │\n",
       "│ [\\n  \"e07d64df5136bbeee8e09861abb49fb418191444e44eb8985ad3ac6d21fe579f\"\\n] │\n",
       "│ [\\n  \"e07d64df5136bbeee8e09861abb49fb418191444e44eb8985ad3ac6d21fe579f\"\\n] │\n",
       "│ [\\n  \"e07d64df5136bbeee8e09861abb49fb418191444e44eb8985ad3ac6d21fe579f\"\\n] │\n",
       "│ [\\n  \"e07d64df5136bbeee8e09861abb49fb418191444e44eb8985ad3ac6d21fe579f\"\\n] │\n",
       "│ [\\n  \"e07d64df5136bbeee8e09861abb49fb418191444e44eb8985ad3ac6d21fe579f\"\\n] │\n",
       "│ [\\n  \"ae7c9e922c6757aa7f182c8bd8b194d2ce0bb9ada0f8727442fdf8eaa59f2985\"\\n] │\n",
       "│ [\\n  \"ae7c9e922c6757aa7f182c8bd8b194d2ce0bb9ada0f8727442fdf8eaa59f2985\"\\n] │\n",
       "└────────────────────────────────────────────────────────────────────────────┘"
      ]
     },
     "execution_count": 11,
     "metadata": {},
     "output_type": "execute_result"
    }
   ],
   "source": [
    "sql = \"\"\"\n",
    "SELECT REFERENCE_NUMBERS1 FROM temp_oa_joined_cleaned;\n",
    "\"\"\"\n",
    "cursor.sql(sql)"
   ]
  },
  {
   "cell_type": "code",
   "execution_count": 12,
   "id": "912bcf53",
   "metadata": {},
   "outputs": [
    {
     "data": {
      "text/plain": [
       "┌─────────────────────────────────────────────────────────┬───────────────────┬───────────────────┬────────────────────┐\n",
       "│                   REFERENCE_NUMBERS1                    │  SD_LOG_RATE_USD  │   LOG_RATE_USD    │ ORDER_OFFER_AMOUNT │\n",
       "│                         varchar                         │      double       │      double       │       int64        │\n",
       "├─────────────────────────────────────────────────────────┼───────────────────┼───────────────────┼────────────────────┤\n",
       "│ [\\n  \"e07d64df5136bbeee8e09861abb49fb418191444e44eb89…  │ 526.6402946983833 │ 8.251882778177453 │                  6 │\n",
       "│ [\\n  \"ae7c9e922c6757aa7f182c8bd8b194d2ce0bb9ada0f8727…  │               0.0 │ 7.951207156472972 │                  2 │\n",
       "└─────────────────────────────────────────────────────────┴───────────────────┴───────────────────┴────────────────────┘"
      ]
     },
     "execution_count": 12,
     "metadata": {},
     "output_type": "execute_result"
    },
    {
     "data": {
      "text/plain": [
       "┌─────────────────────────────────────────────────────────┬───────────────────┬───────────────────┬────────────────────┐\n",
       "│                   REFERENCE_NUMBERS1                    │  SD_LOG_RATE_USD  │   LOG_RATE_USD    │ ORDER_OFFER_AMOUNT │\n",
       "│                         varchar                         │      double       │      double       │       int64        │\n",
       "├─────────────────────────────────────────────────────────┼───────────────────┼───────────────────┼────────────────────┤\n",
       "│ [\\n  \"e07d64df5136bbeee8e09861abb49fb418191444e44eb89…  │ 526.6402946983833 │ 8.251882778177453 │                  6 │\n",
       "│ [\\n  \"ae7c9e922c6757aa7f182c8bd8b194d2ce0bb9ada0f8727…  │               0.0 │ 7.951207156472972 │                  2 │\n",
       "└─────────────────────────────────────────────────────────┴───────────────────┴───────────────────┴────────────────────┘"
      ]
     },
     "execution_count": 12,
     "metadata": {},
     "output_type": "execute_result"
    }
   ],
   "source": [
    "sql = \"\"\"\n",
    "SELECT * FROM offers_aggregated;\n",
    "\"\"\"\n",
    "cursor.sql(sql)"
   ]
  },
  {
   "cell_type": "code",
   "execution_count": 13,
   "id": "81f8e636",
   "metadata": {},
   "outputs": [
    {
     "data": {
      "text/plain": [
       "┌────────────────────┬───────────┐\n",
       "│ REFERENCE_NUMBERS1 │ LEAD_TIME │\n",
       "│      varchar       │  double   │\n",
       "├────────────────────────────────┤\n",
       "│             0 rows             │\n",
       "└────────────────────────────────┘"
      ]
     },
     "execution_count": 13,
     "metadata": {},
     "output_type": "execute_result"
    }
   ],
   "source": [
    "sql = \"\"\"\n",
    "SELECT * FROM orders_lead_time_cleaned;\n",
    "\"\"\"\n",
    "cursor.sql(sql)"
   ]
  },
  {
   "cell_type": "code",
   "execution_count": 14,
   "id": "486a8996",
   "metadata": {},
   "outputs": [
    {
     "data": {
      "text/plain": [
       "┌──────────────────────────────────────────────────────────────────────────────────────────────────────────────────────┐\n",
       "│                                                  REFERENCE_NUMBERS1                                                  │\n",
       "│                                                       varchar                                                        │\n",
       "├──────────────────────────────────────────────────────────────────────────────────────────────────────────────────────┤\n",
       "│ [\\n  \"ce3548db155049cc1ccce2da041cec607942e4f779fc2dee81d5756a93508e49\",\\n  \"0034d727920c7ec0d25c4e40248ddc4d487c2…  │\n",
       "│ [\\n  \"ce3548db155049cc1ccce2da041cec607942e4f779fc2dee81d5756a93508e49\",\\n  \"0034d727920c7ec0d25c4e40248ddc4d487c2…  │\n",
       "│ [\\n  \"ce3548db155049cc1ccce2da041cec607942e4f779fc2dee81d5756a93508e49\",\\n  \"0034d727920c7ec0d25c4e40248ddc4d487c2…  │\n",
       "│ [\\n  \"ce3548db155049cc1ccce2da041cec607942e4f779fc2dee81d5756a93508e49\",\\n  \"0034d727920c7ec0d25c4e40248ddc4d487c2…  │\n",
       "│ [\\n  \"ce3548db155049cc1ccce2da041cec607942e4f779fc2dee81d5756a93508e49\",\\n  \"0034d727920c7ec0d25c4e40248ddc4d487c2…  │\n",
       "│ [\\n  \"d11280863be85372fcea7e1151b536c3a440d91dcab823561e078807278cf906\",\\n  \"88686a5356184ce475eea3846044a73808955…  │\n",
       "│ [\\n  \"d11280863be85372fcea7e1151b536c3a440d91dcab823561e078807278cf906\",\\n  \"88686a5356184ce475eea3846044a73808955…  │\n",
       "│ [\\n  \"d11280863be85372fcea7e1151b536c3a440d91dcab823561e078807278cf906\",\\n  \"88686a5356184ce475eea3846044a73808955…  │\n",
       "│ [\\n  \"334b817243cf602158edc78fa262011640664abe540c189fb3a30ecf3612c59f\",\\n  \"1781a924d308a660470f01d0699a5a215b8b9…  │\n",
       "│ [\\n  \"c98aaf8a708282fbaa9c810cb107cfa20681166d51c23f09bb4f2a893052a7c4\",\\n  \"8c819ef69d61ace562b9554c088c0dc866ced…  │\n",
       "│                                                          ·                                                           │\n",
       "│                                                          ·                                                           │\n",
       "│                                                          ·                                                           │\n",
       "│ [\\n  \"a4b5dd54291a7209d2bdbb3ed918379616c019f514ed48a67332c3c7df48e7e1\",\\n  \"8700aa96230eb98cc2d1d0444860ef414e9ec…  │\n",
       "│ [\\n  \"f33ea4e09e2742e8b0b355254b7c36560cc86033f8e99d9da0b25533f3b4cca9\",\\n  \"65d5683c5cebd90282d7fae9204da403daece…  │\n",
       "│ [\\n  \"f33ea4e09e2742e8b0b355254b7c36560cc86033f8e99d9da0b25533f3b4cca9\",\\n  \"65d5683c5cebd90282d7fae9204da403daece…  │\n",
       "│ [\\n  \"7147fbd108a4099f9e42e1373c78ac5696fe2333f8f635e69c6acc24aa0ef194\",\\n  \"bb87f02e2f88eff7e943139c0756d4e326b10…  │\n",
       "│ [\\n  \"7147fbd108a4099f9e42e1373c78ac5696fe2333f8f635e69c6acc24aa0ef194\",\\n  \"bb87f02e2f88eff7e943139c0756d4e326b10…  │\n",
       "│ [\\n  \"7147fbd108a4099f9e42e1373c78ac5696fe2333f8f635e69c6acc24aa0ef194\",\\n  \"bb87f02e2f88eff7e943139c0756d4e326b10…  │\n",
       "│ [\\n  \"f5467c51a18d26a8624ca3dd937c391da541423d68db0db71aec335e870eaa5c\",\\n  \"d5d472a4833082d023b7da31d627dde30dbf3…  │\n",
       "│ [\\n  \"f5467c51a18d26a8624ca3dd937c391da541423d68db0db71aec335e870eaa5c\",\\n  \"d5d472a4833082d023b7da31d627dde30dbf3…  │\n",
       "│ [\\n  \"f5467c51a18d26a8624ca3dd937c391da541423d68db0db71aec335e870eaa5c\",\\n  \"d5d472a4833082d023b7da31d627dde30dbf3…  │\n",
       "│ [\\n  \"f5467c51a18d26a8624ca3dd937c391da541423d68db0db71aec335e870eaa5c\",\\n  \"d5d472a4833082d023b7da31d627dde30dbf3…  │\n",
       "├──────────────────────────────────────────────────────────────────────────────────────────────────────────────────────┤\n",
       "│                                            ? rows (>9999 rows, 20 shown)                                             │\n",
       "└──────────────────────────────────────────────────────────────────────────────────────────────────────────────────────┘"
      ]
     },
     "execution_count": 14,
     "metadata": {},
     "output_type": "execute_result"
    },
    {
     "data": {
      "text/plain": [
       "┌──────────────────────────────────────────────────────────────────────────────────────────────────────────────────────┐\n",
       "│                                                  REFERENCE_NUMBERS1                                                  │\n",
       "│                                                       varchar                                                        │\n",
       "├──────────────────────────────────────────────────────────────────────────────────────────────────────────────────────┤\n",
       "│ [\\n  \"ce3548db155049cc1ccce2da041cec607942e4f779fc2dee81d5756a93508e49\",\\n  \"0034d727920c7ec0d25c4e40248ddc4d487c2…  │\n",
       "│ [\\n  \"ce3548db155049cc1ccce2da041cec607942e4f779fc2dee81d5756a93508e49\",\\n  \"0034d727920c7ec0d25c4e40248ddc4d487c2…  │\n",
       "│ [\\n  \"ce3548db155049cc1ccce2da041cec607942e4f779fc2dee81d5756a93508e49\",\\n  \"0034d727920c7ec0d25c4e40248ddc4d487c2…  │\n",
       "│ [\\n  \"ce3548db155049cc1ccce2da041cec607942e4f779fc2dee81d5756a93508e49\",\\n  \"0034d727920c7ec0d25c4e40248ddc4d487c2…  │\n",
       "│ [\\n  \"ce3548db155049cc1ccce2da041cec607942e4f779fc2dee81d5756a93508e49\",\\n  \"0034d727920c7ec0d25c4e40248ddc4d487c2…  │\n",
       "│ [\\n  \"d11280863be85372fcea7e1151b536c3a440d91dcab823561e078807278cf906\",\\n  \"88686a5356184ce475eea3846044a73808955…  │\n",
       "│ [\\n  \"d11280863be85372fcea7e1151b536c3a440d91dcab823561e078807278cf906\",\\n  \"88686a5356184ce475eea3846044a73808955…  │\n",
       "│ [\\n  \"d11280863be85372fcea7e1151b536c3a440d91dcab823561e078807278cf906\",\\n  \"88686a5356184ce475eea3846044a73808955…  │\n",
       "│ [\\n  \"334b817243cf602158edc78fa262011640664abe540c189fb3a30ecf3612c59f\",\\n  \"1781a924d308a660470f01d0699a5a215b8b9…  │\n",
       "│ [\\n  \"c98aaf8a708282fbaa9c810cb107cfa20681166d51c23f09bb4f2a893052a7c4\",\\n  \"8c819ef69d61ace562b9554c088c0dc866ced…  │\n",
       "│                                                          ·                                                           │\n",
       "│                                                          ·                                                           │\n",
       "│                                                          ·                                                           │\n",
       "│ [\\n  \"a4b5dd54291a7209d2bdbb3ed918379616c019f514ed48a67332c3c7df48e7e1\",\\n  \"8700aa96230eb98cc2d1d0444860ef414e9ec…  │\n",
       "│ [\\n  \"f33ea4e09e2742e8b0b355254b7c36560cc86033f8e99d9da0b25533f3b4cca9\",\\n  \"65d5683c5cebd90282d7fae9204da403daece…  │\n",
       "│ [\\n  \"f33ea4e09e2742e8b0b355254b7c36560cc86033f8e99d9da0b25533f3b4cca9\",\\n  \"65d5683c5cebd90282d7fae9204da403daece…  │\n",
       "│ [\\n  \"7147fbd108a4099f9e42e1373c78ac5696fe2333f8f635e69c6acc24aa0ef194\",\\n  \"bb87f02e2f88eff7e943139c0756d4e326b10…  │\n",
       "│ [\\n  \"7147fbd108a4099f9e42e1373c78ac5696fe2333f8f635e69c6acc24aa0ef194\",\\n  \"bb87f02e2f88eff7e943139c0756d4e326b10…  │\n",
       "│ [\\n  \"7147fbd108a4099f9e42e1373c78ac5696fe2333f8f635e69c6acc24aa0ef194\",\\n  \"bb87f02e2f88eff7e943139c0756d4e326b10…  │\n",
       "│ [\\n  \"f5467c51a18d26a8624ca3dd937c391da541423d68db0db71aec335e870eaa5c\",\\n  \"d5d472a4833082d023b7da31d627dde30dbf3…  │\n",
       "│ [\\n  \"f5467c51a18d26a8624ca3dd937c391da541423d68db0db71aec335e870eaa5c\",\\n  \"d5d472a4833082d023b7da31d627dde30dbf3…  │\n",
       "│ [\\n  \"f5467c51a18d26a8624ca3dd937c391da541423d68db0db71aec335e870eaa5c\",\\n  \"d5d472a4833082d023b7da31d627dde30dbf3…  │\n",
       "│ [\\n  \"f5467c51a18d26a8624ca3dd937c391da541423d68db0db71aec335e870eaa5c\",\\n  \"d5d472a4833082d023b7da31d627dde30dbf3…  │\n",
       "├──────────────────────────────────────────────────────────────────────────────────────────────────────────────────────┤\n",
       "│                                            ? rows (>9999 rows, 20 shown)                                             │\n",
       "└──────────────────────────────────────────────────────────────────────────────────────────────────────────────────────┘"
      ]
     },
     "execution_count": 14,
     "metadata": {},
     "output_type": "execute_result"
    }
   ],
   "source": [
    "sql = \"\"\"\n",
    "SELECT REFERENCE_NUMBERS1 FROM oa_offers_temp;\n",
    "\"\"\"\n",
    "cursor.sql(sql)"
   ]
  },
  {
   "cell_type": "code",
   "execution_count": null,
   "id": "5c42d985",
   "metadata": {},
   "outputs": [],
   "source": [
    "sql = \"\"\"\n",
    "SELECT REFERENCE_NUMBERS1 FROM oa_orders_temp;\n",
    "\"\"\"\n",
    "cursor.sql(sql)"
   ]
  }
 ],
 "metadata": {
  "kernelspec": {
   "display_name": "Python 3",
   "language": "python",
   "name": "python3"
  },
  "language_info": {
   "codemirror_mode": {
    "name": "ipython",
    "version": 3
   },
   "file_extension": ".py",
   "mimetype": "text/x-python",
   "name": "python",
   "nbconvert_exporter": "python",
   "pygments_lexer": "ipython3",
   "version": "3.7.4"
  }
 },
 "nbformat": 4,
 "nbformat_minor": 5
}
